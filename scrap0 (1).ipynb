{
  "nbformat": 4,
  "nbformat_minor": 0,
  "metadata": {
    "colab": {
      "provenance": [],
      "gpuType": "V28"
    },
    "kernelspec": {
      "name": "python3",
      "display_name": "Python 3"
    },
    "language_info": {
      "name": "python"
    },
    "accelerator": "TPU"
  },
  "cells": [
    {
      "cell_type": "code",
      "execution_count": 2,
      "metadata": {
        "colab": {
          "base_uri": "https://localhost:8080/"
        },
        "id": "YmDw3WDXFqvt",
        "outputId": "acc87376-97d8-4270-a7c4-56d8c927a6ac"
      },
      "outputs": [
        {
          "output_type": "stream",
          "name": "stdout",
          "text": [
            "W: Skipping acquire of configured file 'main/source/Sources' as repository 'https://r2u.stat.illinois.edu/ubuntu jammy InRelease' does not seem to provide it (sources.list entry misspelt?)\n",
            "cp: '/usr/lib/chromium-browser/chromedriver' and '/usr/bin/chromedriver' are the same file\n"
          ]
        }
      ],
      "source": [
        "!apt-get update > /dev/null\n",
        "!apt-get install -y chromium-chromedriver > /dev/null\n",
        "!cp /usr/lib/chromium-browser/chromedriver /usr/bin\n",
        "!pip install selenium beautifulsoup4 > /dev/null"
      ]
    },
    {
      "cell_type": "code",
      "source": [
        "from selenium import webdriver\n",
        "from selenium.webdriver.chrome.options import Options\n",
        "from selenium.webdriver.common.by import By\n",
        "from selenium.webdriver.support.ui import WebDriverWait\n",
        "from selenium.webdriver.support import expected_conditions as EC\n",
        "from bs4 import BeautifulSoup\n",
        "import json\n",
        "import time\n",
        "\n",
        "# List of paper URLs to scrape\n",
        "links = [\n",
        "    \"https://aiche.confex.com/aiche/2023/meetingapp.cgi/Paper/668173\",\n",
        "    \"https://aiche.confex.com/aiche/2023/meetingapp.cgi/Paper/665047\",\n",
        "    \"https://aiche.confex.com/aiche/2023/meetingapp.cgi/Paper/669736\",\n",
        "    \"https://aiche.confex.com/aiche/2023/meetingapp.cgi/Paper/662273\",\n",
        "    \"https://aiche.confex.com/aiche/2023/meetingapp.cgi/Paper/660030\",\n",
        "    \"https://aiche.confex.com/aiche/2023/meetingapp.cgi/Paper/668861\",\n",
        "    \"https://aiche.confex.com/aiche/2023/meetingapp.cgi/Paper/669377\",\n",
        "    \"https://aiche.confex.com/aiche/2023/meetingapp.cgi/Paper/669431\",\n",
        "    \"https://aiche.confex.com/aiche/2023/meetingapp.cgi/Paper/670481\",\n",
        "    \"https://aiche.confex.com/aiche/2023/meetingapp.cgi/Paper/668329\"\n",
        "    ]\n",
        "\n",
        "options = Options()\n",
        "options.add_argument(\"--headless\")\n",
        "options.add_argument(\"--no-sandbox\")\n",
        "options.add_argument(\"--disable-dev-shm-usage\")\n",
        "\n",
        "def get_text(soup, selector):\n",
        "    elements = soup.select(selector)\n",
        "    if not elements:\n",
        "        return \"Not found\"\n",
        "    return \" | \".join([el.get_text(strip=True) for el in elements])\n",
        "\n",
        "driver = webdriver.Chrome(options=options)\n",
        "all_data = []\n",
        "\n",
        "try:\n",
        "    for url in links:\n",
        "        driver.get(url)\n",
        "        WebDriverWait(driver, 20).until(\n",
        "            EC.any_of(\n",
        "                EC.presence_of_element_located((By.CSS_SELECTOR, \"section.titleContent\")),\n",
        "                EC.presence_of_element_located((By.CSS_SELECTOR, \"div.field_Abstract\"))\n",
        "            )\n",
        "        )\n",
        "        time.sleep(2)\n",
        "        soup = BeautifulSoup(driver.page_source, 'html.parser')\n",
        "        data = {\n",
        "            \"url\": url,\n",
        "            \"topic\": get_text(soup, \"p.favoriteItem\"),\n",
        "            \"date_time\": get_text(soup, 'span.defaultTZ'),\n",
        "            \"abstract\": get_text(soup, 'section.field_Abstract'),\n",
        "            \"presenting_author\": f\"{get_text(soup, 'a.presenter')} | {get_text(soup, 'span.roleAffiliation')}\"\n",
        "        }\n",
        "        all_data.append(data)\n",
        "finally:\n",
        "    driver.quit()\n",
        "\n",
        "# Save to JSON\n",
        "with open('aiche_papers.json', 'w', encoding='utf-8') as f:\n",
        "    json.dump(all_data, f, ensure_ascii=False, indent=2)\n"
      ],
      "metadata": {
        "id": "lstoGj7pFz2f"
      },
      "execution_count": 6,
      "outputs": []
    },
    {
      "cell_type": "code",
      "source": [
        "from selenium.common.exceptions import TimeoutException\n",
        "\n",
        "def scrape_day(driver, date):\n",
        "    day_data = {\"date\": date, \"sessions\": []}\n",
        "    url = f\"https://aiche.confex.com/aiche/2023/meetingapp.cgi/Day/{date}\"\n",
        "    try:\n",
        "        driver.get(url)\n",
        "        try:\n",
        "            WebDriverWait(driver, 10).until(\n",
        "                EC.presence_of_element_located((By.CSS_SELECTOR, \"div.sessionRow\"))\n",
        "            )\n",
        "        except TimeoutException:\n",
        "            print(f\"⏩ No sessions found for {date}, skipping.\")\n",
        "            return None  # No sessions for this day\n",
        "        time.sleep(2)\n",
        "        soup = BeautifulSoup(driver.page_source, 'html.parser')\n",
        "        session_links = [\"https://aiche.confex.com\" + a['href']\n",
        "                         for a in soup.select('div.sessionRow a[href*=\"/Session/\"]')]\n",
        "        # ... continue as before\n",
        "        # ...\n",
        "        return day_data\n",
        "    except Exception as e:\n",
        "        print(f\"⚠️ Day error: {date} | {str(e)}\")\n",
        "        return None\n"
      ],
      "metadata": {
        "id": "_Xcd-vGWHMNW"
      },
      "execution_count": 3,
      "outputs": []
    },
    {
      "cell_type": "code",
      "source": [],
      "metadata": {
        "id": "UPdSfBreLLQo"
      },
      "execution_count": null,
      "outputs": []
    }
  ]
}