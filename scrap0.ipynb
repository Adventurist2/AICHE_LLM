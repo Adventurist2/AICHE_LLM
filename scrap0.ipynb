{
  "nbformat": 4,
  "nbformat_minor": 0,
  "metadata": {
    "colab": {
      "provenance": []
    },
    "kernelspec": {
      "name": "python3",
      "display_name": "Python 3"
    },
    "language_info": {
      "name": "python"
    }
  },
  "cells": [
    {
      "cell_type": "code",
      "execution_count": null,
      "metadata": {
        "id": "YmDw3WDXFqvt"
      },
      "outputs": [],
      "source": [
        "# Step 1: Setup in Colab\n",
        "!apt-get update > /dev/null\n",
        "!apt-get install -y chromium-chromedriver > /dev/null\n",
        "!cp /usr/lib/chromium-browser/chromedriver /usr/bin\n",
        "!pip install selenium beautifulsoup4 > /dev/null\n"
      ]
    },
    {
      "cell_type": "code",
      "source": [
        "from selenium import webdriver\n",
        "from selenium.webdriver.chrome.options import Options\n",
        "from selenium.webdriver.common.by import By\n",
        "from selenium.webdriver.support.ui import WebDriverWait\n",
        "from selenium.webdriver.support import expected_conditions as EC\n",
        "from bs4 import BeautifulSoup\n",
        "import json\n",
        "import time\n",
        "\n",
        "def get_text(soup, selector):\n",
        "    elements = soup.select(selector)\n",
        "    if not elements:\n",
        "        return \"Not found\"\n",
        "    return \" \".join([el.get_text(strip=True) for el in elements])\n",
        "\n",
        "options = Options()\n",
        "options.add_argument(\"--headless\")\n",
        "options.add_argument(\"--no-sandbox\")\n",
        "options.add_argument(\"--disable-dev-shm-usage\")\n",
        "\n",
        "driver = webdriver.Chrome(options=options)\n",
        "\n",
        "try:\n",
        "    driver.get(\"https://aiche.confex.com/aiche/2023/meetingapp.cgi/Paper/668173\")\n",
        "\n",
        "    # Wait for critical sections\n",
        "    WebDriverWait(driver, 15).until(\n",
        "        EC.any_of(\n",
        "            EC.presence_of_element_located((By.CSS_SELECTOR, \"section.titleContent\")),\n",
        "            EC.presence_of_element_located((By.CSS_SELECTOR, \"div.field_Abstract\"))\n",
        "        )\n",
        "    )\n",
        "\n",
        "    # Additional wait for dynamic content\n",
        "    time.sleep(2)\n",
        "\n",
        "    soup = BeautifulSoup(driver.page_source, 'html.parser')\n",
        "\n",
        "    data = {\n",
        "        \"topic\": get_text(soup, \"p.favoriteItem\"),\n",
        "        \"date_time\": get_text(soup, 'span.defaultTZ'),\n",
        "        \"abstract\": get_text(soup, 'section.field_Abstract'),  # Fixed selector and comma\n",
        "        \"presenting_author\": f\"{get_text(soup, 'a.presenter')} | {get_text(soup, 'span.roleAffiliation')}\",\n",
        "    }\n",
        "\n",
        "\n",
        "    print(json.dumps(data, indent=2))\n",
        "\n",
        "except Exception as e:\n",
        "    print(f\"❌ Error: {e}\")\n",
        "finally:\n",
        "    driver.quit()\n"
      ],
      "metadata": {
        "id": "lstoGj7pFz2f"
      },
      "execution_count": null,
      "outputs": []
    }
  ]
}